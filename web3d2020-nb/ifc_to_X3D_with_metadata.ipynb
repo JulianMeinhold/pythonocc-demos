{
 "cells": [
  {
   "cell_type": "markdown",
   "metadata": {},
   "source": [
    "# IFC to X3D, Stair example"
   ]
  },
  {
   "cell_type": "code",
   "execution_count": 1,
   "metadata": {},
   "outputs": [
    {
     "name": "stdout",
     "output_type": "stream",
     "text": [
      "x3d.py package loaded, have fun with X3D Graphics!\n"
     ]
    }
   ],
   "source": [
    "import os\n",
    "\n",
    "import ifcopenshell, ifcopenshell.geom, ifcopenshell.util.element\n",
    "from IPython.display import HTML\n",
    "from OCC.Extend.DataExchange.X3D import X3DSceneExporter\n",
    "from OCC.Display.WebGl.jupyter_renderer import create_download_link, progress_indicator\n",
    "from OCC.Extend.DataExchange.x3d_standard import x3d as XX3D"
   ]
  },
  {
   "cell_type": "code",
   "execution_count": 2,
   "metadata": {},
   "outputs": [],
   "source": [
    "def attributes_to_X3DMetadataSet(attributes_name, the_instance):\n",
    "    \"\"\" export all attributes that start with an uppercase letter,\n",
    "    convert to a set of metadatastrings\n",
    "    \"\"\"\n",
    "    attributes_metadataset_node = XX3D.MetadataSet(name=attributes_name)\n",
    "    attributes = dir(the_instance)\n",
    "\n",
    "    for attr in attributes:\n",
    "        if attr[0].isupper():\n",
    "            attr_value = str(getattr(the_instance, attr))\n",
    "            attr_value = attr_value.replace(\"'\", '\"')\n",
    "            new_metadata = XX3D.MetadataString(name=attr, value=[attr_value])\n",
    "            attributes_metadataset_node.value.append(new_metadata)\n",
    "\n",
    "    return attributes_metadataset_node\n",
    "\n",
    "\n",
    "def dict_to_X3DMetadataSet(the_dict, the_dict_name):\n",
    "    metadataset_node = XX3D.MetadataSet(name=the_dict_name)\n",
    "    for key in the_dict:\n",
    "        if isinstance(the_dict[key], dict):\n",
    "            new_metadata = dict_to_X3DMetadataSet(the_dict[key], key)\n",
    "            #metadataset_node.value.append(dict_to_X3DMetadataSet(the_dict[key], key))\n",
    "        else:\n",
    "            val = str(the_dict[key])\n",
    "            val = val.replace(\"'\", '\"')\n",
    "            new_metadata = XX3D.MetadataString(name=key, value=[val])\n",
    "        metadataset_node.value.append(new_metadata)\n",
    "\n",
    "    return metadataset_node"
   ]
  },
  {
   "cell_type": "code",
   "execution_count": 3,
   "metadata": {},
   "outputs": [],
   "source": [
    "ifc_filename = './NBS_PremierLoftLadders_AlumLoftLddrs_Isotec.ifc'"
   ]
  },
  {
   "cell_type": "code",
   "execution_count": 4,
   "metadata": {},
   "outputs": [],
   "source": [
    "settings = ifcopenshell.geom.settings()\n",
    "settings.set(settings.USE_PYTHON_OPENCASCADE, True)  # tells ifcopenshell to use pythonocc\n",
    "settings.set(settings.DISABLE_TRIANGULATION, True)  # useless, since it is performed by the Tesselator\n",
    "settings.set(settings.NO_NORMALS, True)"
   ]
  },
  {
   "cell_type": "code",
   "execution_count": 5,
   "metadata": {},
   "outputs": [],
   "source": [
    "ifc_file = ifcopenshell.open(ifc_filename)"
   ]
  },
  {
   "cell_type": "code",
   "execution_count": 6,
   "metadata": {},
   "outputs": [],
   "source": [
    "# create X3D scene\n",
    "scene_exp = X3DSceneExporter()"
   ]
  },
  {
   "cell_type": "code",
   "execution_count": 7,
   "metadata": {},
   "outputs": [],
   "source": [
    "# add metadata for project\n",
    "project = ifc_file.by_type(\"IfcProject\")\n",
    "project_metadata = attributes_to_X3DMetadataSet('project_attributes', project[0])\n",
    "scene_exp._x3dscene.children.append(project_metadata)\n",
    "\n",
    "# add metadata for sites\n",
    "sites = ifc_file.by_type(\"IfcSite\")\n",
    "for site in sites:\n",
    "    site_metadata = attributes_to_X3DMetadataSet('site_attributes', site)\n",
    "    scene_exp._x3dscene.children.append(site_metadata)\n",
    "\n",
    "# add metadata for buildings\n",
    "buildings = ifc_file.by_type(\"IfcBuilding\")\n",
    "for building in buildings:\n",
    "    building_metadata = attributes_to_X3DMetadataSet('building_attributes', building)\n",
    "    scene_exp._x3dscene.children.append(building_metadata)\n",
    "\n",
    "# add metadata for storeys\n",
    "storeys = ifc_file.by_type(\"IfcBuildingStorey\")\n",
    "for story in storeys:\n",
    "    story_metadata = attributes_to_X3DMetadataSet('storey_attributes', story)\n",
    "    scene_exp._x3dscene.children.append(story_metadata)"
   ]
  },
  {
   "cell_type": "code",
   "execution_count": 8,
   "metadata": {},
   "outputs": [
    {
     "name": "stdout",
     "output_type": "stream",
     "text": [
      "Progress: [####################] 100.0%\n"
     ]
    }
   ],
   "source": [
    "# traverse elements, create geometry is Representation is not None\n",
    "elements = ifc_file.by_type(\"IfcElement\")\n",
    "idx_elt = 0\n",
    "nb_elements = len(elements)\n",
    "nb_failed = 0\n",
    "\n",
    "for element in elements:\n",
    "    # get element properties, psets and create a X3DMetaDataString node\n",
    "    elem_psets = ifcopenshell.util.element.get_psets(element)\n",
    "    psets_metadata = dict_to_X3DMetadataSet(elem_psets, \"psets\")\n",
    "    attributes_metadata = attributes_to_X3DMetadataSet(\"element_attributes\", element)\n",
    "\n",
    "    if element.Representation is not None:  # some IfcProducts don't have any 3d representation\n",
    "        try:\n",
    "            elmnt_shape = ifcopenshell.geom.create_shape(settings, inst=element)\n",
    "        except:\n",
    "            nb_failed += 1\n",
    "            continue\n",
    "        \n",
    "        if elmnt_shape.styles:\n",
    "            r,g,b,alpha = elmnt_shape.styles[0] # the shape color\n",
    "            color = (abs(r), abs(g), abs(b))\n",
    "        else:  #default color, mid gray\n",
    "            color = (0.5, 0.5, 0.5)\n",
    "\n",
    "        out_node = scene_exp.add_shape(elmnt_shape.geometry,\n",
    "                                       shape_color=color,\n",
    "                                       emissive=False,\n",
    "                                       export_edges=False)\n",
    "        #prepend the metadata to the children list\n",
    "        # the shape geometry metadata\n",
    "        out_node.children.insert(0, psets_metadata)\n",
    "        out_node.children.insert(0, attributes_metadata)\n",
    "    else:\n",
    "        print(element.ObjectType, \"has no representation\")\n",
    "    idx_elt +=1\n",
    "\n",
    "    # update progress indicator\n",
    "    progress_indicator(idx_elt / nb_elements)"
   ]
  },
  {
   "cell_type": "code",
   "execution_count": 9,
   "metadata": {},
   "outputs": [
    {
     "data": {
      "application/vnd.jupyter.widget-view+json": {
       "model_id": "cc268b1e194e451c9c57b799d3d645a1",
       "version_major": 2,
       "version_minor": 0
      },
      "text/plain": [
       "HTML(value='<a download=\"ifc_stair.x3d\" href=\"data:text/x3d;base64,PD94bWwgdmVyc2lvbj0iMS4wIiBlbmNvZGluZz0iVVR…"
      ]
     },
     "metadata": {},
     "output_type": "display_data"
    }
   ],
   "source": [
    "create_download_link(a_str=scene_exp.to_xml(), filename=\"ifc_stair.x3d\")"
   ]
  },
  {
   "cell_type": "code",
   "execution_count": null,
   "metadata": {},
   "outputs": [],
   "source": [
    "HTML(scene_exp.to_x3dom_html())"
   ]
  }
 ],
 "metadata": {
  "kernelspec": {
   "display_name": "Python 3",
   "language": "python",
   "name": "python3"
  },
  "language_info": {
   "codemirror_mode": {
    "name": "ipython",
    "version": 3
   },
   "file_extension": ".py",
   "mimetype": "text/x-python",
   "name": "python",
   "nbconvert_exporter": "python",
   "pygments_lexer": "ipython3",
   "version": "3.7.8"
  }
 },
 "nbformat": 4,
 "nbformat_minor": 2
}
