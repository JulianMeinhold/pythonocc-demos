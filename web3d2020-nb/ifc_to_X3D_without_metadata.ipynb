{
 "cells": [
  {
   "cell_type": "markdown",
   "metadata": {},
   "source": [
    "# IFC to X3D, geometry and visual properties export only"
   ]
  },
  {
   "cell_type": "code",
   "execution_count": null,
   "metadata": {},
   "outputs": [],
   "source": [
    "import os\n",
    "\n",
    "import ifcopenshell, ifcopenshell.geom, ifcopenshell.util.element\n",
    "from IPython.display import HTML\n",
    "from OCC.Extend.DataExchange.X3D import X3DSceneExporter\n",
    "from OCC.Display.WebGl.jupyter_renderer import create_download_link, progress_indicator\n",
    "from OCC.Extend.DataExchange.x3d_standard import x3d as XX3D"
   ]
  },
  {
   "cell_type": "code",
   "execution_count": null,
   "metadata": {},
   "outputs": [],
   "source": [
    "ifc_filename = './NBS_PremierLoftLadders_AlumLoftLddrs_Isotec.ifc'"
   ]
  },
  {
   "cell_type": "code",
   "execution_count": null,
   "metadata": {},
   "outputs": [],
   "source": [
    "settings = ifcopenshell.geom.settings()\n",
    "settings.set(settings.USE_PYTHON_OPENCASCADE, True)  # tells ifcopenshell to use pythonocc\n",
    "settings.set(settings.DISABLE_TRIANGULATION, True)  # useless, since it is performed by the Tesselator\n",
    "settings.set(settings.NO_NORMALS, True)"
   ]
  },
  {
   "cell_type": "code",
   "execution_count": null,
   "metadata": {},
   "outputs": [],
   "source": [
    "ifc_file = ifcopenshell.open(ifc_filename)"
   ]
  },
  {
   "cell_type": "code",
   "execution_count": null,
   "metadata": {},
   "outputs": [],
   "source": [
    "# create X3D scene\n",
    "scene_exp = X3DSceneExporter()"
   ]
  },
  {
   "cell_type": "code",
   "execution_count": null,
   "metadata": {},
   "outputs": [],
   "source": [
    "# traverse elements, create geometry is Representation is not None\n",
    "elements = ifc_file.by_type(\"IfcElement\")\n",
    "idx_elt = 0\n",
    "nb_elements = len(elements)\n",
    "nb_failed = 0\n",
    "\n",
    "for element in elements:\n",
    "    if element.Representation is not None:  # some IfcProducts don't have any 3d representation\n",
    "        try:\n",
    "            elmnt_shape = ifcopenshell.geom.create_shape(settings, inst=element)\n",
    "        except:\n",
    "            nb_failed += 1\n",
    "            continue\n",
    "        \n",
    "        if elmnt_shape.styles:\n",
    "            r,g,b,alpha = elmnt_shape.styles[0] # the shape color\n",
    "            color = (abs(r), abs(g), abs(b))\n",
    "        else:  #default color, mid gray\n",
    "            color = (0.5, 0.5, 0.5)\n",
    "\n",
    "        out_node = scene_exp.add_shape(elmnt_shape.geometry,\n",
    "                                       shape_color=color,\n",
    "                                       emissive=False,\n",
    "                                       export_edges=False)\n",
    "    else:\n",
    "        print(element.ObjectType, \"has no representation\")\n",
    "    idx_elt +=1\n",
    "\n",
    "    # update progress indicator\n",
    "    progress_indicator(idx_elt / nb_elements)"
   ]
  },
  {
   "cell_type": "code",
   "execution_count": null,
   "metadata": {},
   "outputs": [],
   "source": [
    "create_download_link(a_str=scene_exp.to_xml(), filename=\"ifc_stair.x3d\")"
   ]
  },
  {
   "cell_type": "code",
   "execution_count": null,
   "metadata": {},
   "outputs": [],
   "source": [
    "HTML(scene_exp.to_x3dom_html())"
   ]
  },
  {
   "cell_type": "code",
   "execution_count": null,
   "metadata": {},
   "outputs": [],
   "source": []
  }
 ],
 "metadata": {
  "kernelspec": {
   "display_name": "Python 3",
   "language": "python",
   "name": "python3"
  },
  "language_info": {
   "codemirror_mode": {
    "name": "ipython",
    "version": 3
   },
   "file_extension": ".py",
   "mimetype": "text/x-python",
   "name": "python",
   "nbconvert_exporter": "python",
   "pygments_lexer": "ipython3",
   "version": "3.7.8"
  }
 },
 "nbformat": 4,
 "nbformat_minor": 2
}
