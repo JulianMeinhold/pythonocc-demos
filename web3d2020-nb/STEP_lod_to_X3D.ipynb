{
 "cells": [
  {
   "cell_type": "markdown",
   "metadata": {},
   "source": [
    "# STEP file export, level of details"
   ]
  },
  {
   "cell_type": "code",
   "execution_count": null,
   "metadata": {},
   "outputs": [],
   "source": [
    "import math\n",
    "import xml.etree.ElementTree as ET\n",
    "\n",
    "from OCC.Core.BRepPrimAPI import BRepPrimAPI_MakeTorus\n",
    "from OCC.Extend.DataExchange.X3D import X3DLODShapeExporter\n",
    "import OCC.Extend.DataExchange.x3d_standard.x3d as XX3D\n",
    "\n",
    "from OCC.Extend.ShapeFactory import get_aligned_boundingbox\n",
    "from OCC.Extend.DataExchange.STEP import read_step_file\n",
    "from OCC.Display.WebGl.jupyter_renderer import create_download_link\n",
    "\n",
    "from IPython.display import HTML"
   ]
  },
  {
   "cell_type": "code",
   "execution_count": null,
   "metadata": {},
   "outputs": [],
   "source": [
    "# load STEP file\n",
    "shp = read_step_file('./belever_gear.step')\n",
    "# uncomment one of the following lines to test with other files\n",
    "#shp = read_step_file('./M8X30MM_ALLEN_KEY_SCREW.STEP')\n",
    "#shp = read_step_file('./plane.stp')"
   ]
  },
  {
   "cell_type": "code",
   "execution_count": null,
   "metadata": {},
   "outputs": [],
   "source": [
    "# set the level of details\n",
    "# a dictionary with keys (distance from center, near to far), values (decimation ratio)\n",
    "center, [dx, dy, dz], bounding_box_shp = get_aligned_boundingbox(shp)\n",
    "bbmax = max([dx, dy, dz])\n",
    "lod_lv = {2 * bbmax: 0., 3 * bbmax:0.6, 10 * bbmax:0.9}\n",
    "print(lod_lv)"
   ]
  },
  {
   "cell_type": "code",
   "execution_count": null,
   "metadata": {},
   "outputs": [],
   "source": [
    "# lod exporter for the shape\n",
    "lod_exp = X3DLODShapeExporter(shp, lod_levels=lod_lv)"
   ]
  },
  {
   "cell_type": "code",
   "execution_count": null,
   "metadata": {},
   "outputs": [],
   "source": [
    "# X3D scene creation\n",
    "x3dscene = XX3D.Scene(children=[])\n",
    "x3ddoc = XX3D.X3D(Scene=x3dscene)\n",
    "x3dscene.children.append(lod_exp._lod_Node)"
   ]
  },
  {
   "cell_type": "code",
   "execution_count": null,
   "metadata": {},
   "outputs": [],
   "source": [
    "create_download_link(a_str=x3dscene.XML(), filename=\"lod_test.x3d\")"
   ]
  },
  {
   "cell_type": "code",
   "execution_count": null,
   "metadata": {},
   "outputs": [],
   "source": [
    "# render with x3dom\n",
    "# zoom out to visualize the different meshes\n",
    "# create x3dom html\n",
    "_X3DOM_HEADER = '''<script type='text/javascript' src='https://www.x3dom.org/download/dev/x3dom-full.debug.js'> </script>\n",
    "<link rel='stylesheet' type='text/css' href='https://www.x3dom.org/download/dev/x3dom.css'></link>\n",
    "'''\n",
    "x3d_element = list(ET.XML(x3ddoc.XML()).iter('X3D'))[0]\n",
    "\n",
    "# remove gama correction\n",
    "next(x3d_element.iter('Scene')).append(ET.XML('<Environment gammaCorrectionDefault=\"none\"/>'))\n",
    "\n",
    "# add crease angle to IndexedTriangleSet instances, supported by x3dom\n",
    "# but not part of the X3D standard\n",
    "for idx_ts in x3d_element.iter('IndexedTriangleSet'):\n",
    "    idx_ts.set('creaseAngle', '0.2')\n",
    "\n",
    "x3dHTML = ET.tostring(x3d_element, encoding=\"unicode\", short_empty_elements=False)\n",
    "x3dHTML = x3dHTML.replace(\"visible=\", 'render=')\n",
    "x3dom_html = _X3DOM_HEADER + x3dHTML\n",
    "\n",
    "HTML(x3dom_html)"
   ]
  }
 ],
 "metadata": {
  "kernelspec": {
   "display_name": "Python 3",
   "language": "python",
   "name": "python3"
  },
  "language_info": {
   "codemirror_mode": {
    "name": "ipython",
    "version": 3
   },
   "file_extension": ".py",
   "mimetype": "text/x-python",
   "name": "python",
   "nbconvert_exporter": "python",
   "pygments_lexer": "ipython3",
   "version": "3.7.8"
  }
 },
 "nbformat": 4,
 "nbformat_minor": 2
}
