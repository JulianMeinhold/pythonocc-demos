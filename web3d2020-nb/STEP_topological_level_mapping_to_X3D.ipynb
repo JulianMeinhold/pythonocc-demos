{
 "cells": [
  {
   "cell_type": "markdown",
   "metadata": {},
   "source": [
    "# STEP to X3D: single shape, two possible topological mappings"
   ]
  },
  {
   "cell_type": "code",
   "execution_count": null,
   "metadata": {},
   "outputs": [],
   "source": [
    "# standard imports\n",
    "import os\n",
    "\n",
    "# pythonocc imports\n",
    "from OCC.Extend.DataExchange.X3D import X3DSceneExporter\n",
    "from OCC.Display.WebGl.jupyter_renderer import create_download_link\n",
    "from OCC.Extend.DataExchange.STEP import read_step_file\n",
    "from OCC.Extend.TopologyUtils import TopologyExplorer\n",
    "from IPython.display import HTML, display"
   ]
  },
  {
   "cell_type": "code",
   "execution_count": null,
   "metadata": {},
   "outputs": [],
   "source": [
    "shp = read_step_file('./belever_gear.step')\n",
    "# compute the number of faces\n",
    "topology_explorer = TopologyExplorer(shp)\n",
    "print(\"Total number of faces:\", topology_explorer.number_of_faces())"
   ]
  },
  {
   "cell_type": "markdown",
   "metadata": {},
   "source": [
    "# Face to Shape mapping"
   ]
  },
  {
   "cell_type": "code",
   "execution_count": null,
   "metadata": {},
   "outputs": [],
   "source": [
    "x3d_scene_face_to_shape = X3DSceneExporter()"
   ]
  },
  {
   "cell_type": "code",
   "execution_count": null,
   "metadata": {},
   "outputs": [],
   "source": [
    "# traverse all Faces and export each one as a Shape node\n",
    "for face in topology_explorer.faces():\n",
    "    x3d_scene_face_to_shape.add_shape(face,\n",
    "                        shape_color=(0.1,0.1,0.1),\n",
    "                        color_DEF_name='myGRAY',\n",
    "                        emissive=True,\n",
    "                        export_edges=True)"
   ]
  },
  {
   "cell_type": "code",
   "execution_count": null,
   "metadata": {
    "scrolled": true
   },
   "outputs": [],
   "source": [
    "HTML(x3d_scene_face_to_shape.to_x3dom_html())"
   ]
  },
  {
   "cell_type": "code",
   "execution_count": null,
   "metadata": {},
   "outputs": [],
   "source": [
    "create_download_link(a_str=x3d_scene_face_to_shape.to_xml(), filename=\"beveler_gear_face_to_shape.x3d\")"
   ]
  },
  {
   "cell_type": "markdown",
   "metadata": {},
   "source": [
    "# Solid to Shape mapping"
   ]
  },
  {
   "cell_type": "code",
   "execution_count": null,
   "metadata": {},
   "outputs": [],
   "source": [
    "x3d_scene_solid_to_shape = X3DSceneExporter()"
   ]
  },
  {
   "cell_type": "code",
   "execution_count": null,
   "metadata": {},
   "outputs": [],
   "source": [
    "# traverse all Faces and export each one as a Shape node\n",
    "x3d_scene_solid_to_shape.add_shape(shp,\n",
    "                        shape_color=(0.1,0.1,0.1),\n",
    "                        color_DEF_name='myGRAY',\n",
    "                        emissive=True,\n",
    "                        export_edges=True)"
   ]
  },
  {
   "cell_type": "code",
   "execution_count": null,
   "metadata": {},
   "outputs": [],
   "source": [
    "HTML(x3d_scene_solid_to_shape.to_x3dom_html())"
   ]
  },
  {
   "cell_type": "code",
   "execution_count": null,
   "metadata": {},
   "outputs": [],
   "source": [
    "create_download_link(a_str=x3d_scene_solid_to_shape.to_xml(), filename=\"beveler_gear_solid_to_shape.x3d\")"
   ]
  }
 ],
 "metadata": {
  "kernelspec": {
   "display_name": "Python 3",
   "language": "python",
   "name": "python3"
  },
  "language_info": {
   "codemirror_mode": {
    "name": "ipython",
    "version": 3
   },
   "file_extension": ".py",
   "mimetype": "text/x-python",
   "name": "python",
   "nbconvert_exporter": "python",
   "pygments_lexer": "ipython3",
   "version": "3.7.8"
  }
 },
 "nbformat": 4,
 "nbformat_minor": 2
}
