{
 "cells": [
  {
   "cell_type": "markdown",
   "metadata": {},
   "source": [
    "# STEP to X3D exporter, one Shape per solid, colors\n",
    "A jupyter notebook to export any STEP file (AP203, AP214, AP242) to X3D. The exporter is based upon pythonocc for topology and geometry processing and the x3d.py package. It is currently under development, authors Thomas Paviot (tpaviot@gmail.com) and Andreas Plesch (andreas_plesch@harvard.edu ). The code is distributed under the terms of the LGPL V3 public license."
   ]
  },
  {
   "cell_type": "markdown",
   "metadata": {},
   "source": [
    "Step 1. Import all necessary packages and modules"
   ]
  },
  {
   "cell_type": "code",
   "execution_count": null,
   "metadata": {},
   "outputs": [],
   "source": [
    "# standard imports\n",
    "import os\n",
    "\n",
    "# pythonocc imports\n",
    "from OCC.Extend.DataExchange.XDE import SceneGraphFromDoc, DocFromSTEP\n",
    "from OCC.Extend.DataExchange.X3D import X3DShapeExporter, X3DFromSceneGraph\n",
    "from OCC.Display.WebGl.jupyter_renderer import create_download_link\n",
    "\n",
    "# ipython and ipywidgets imports\n",
    "from IPython.display import HTML, display"
   ]
  },
  {
   "cell_type": "code",
   "execution_count": null,
   "metadata": {},
   "outputs": [],
   "source": [
    "full_filename = './as1_pe_203.stp'\n",
    "#full_filename = './RC_Buggy_2_front_suspension.stp'"
   ]
  },
  {
   "cell_type": "code",
   "execution_count": null,
   "metadata": {},
   "outputs": [],
   "source": [
    "document = DocFromSTEP(full_filename).get_doc()\n",
    "scenegraph = SceneGraphFromDoc(document)\n",
    "x3dXML = X3DFromSceneGraph(scenegraph.get_scene(), scenegraph.get_internal_face_entries())\n",
    "x3dom_html = x3dXML.to_x3dom_html()"
   ]
  },
  {
   "cell_type": "markdown",
   "metadata": {},
   "source": [
    "Render the x3dom hml in the jupyter notebook"
   ]
  },
  {
   "cell_type": "code",
   "execution_count": null,
   "metadata": {},
   "outputs": [],
   "source": [
    "create_download_link(a_str=x3dXML.to_xml(), filename=\"as1_pe_203.x3d\")"
   ]
  },
  {
   "cell_type": "markdown",
   "metadata": {},
   "source": [
    "Render using x3dom. This can be very looong according to the STEP file size"
   ]
  },
  {
   "cell_type": "code",
   "execution_count": null,
   "metadata": {
    "scrolled": true
   },
   "outputs": [],
   "source": [
    "HTML(x3dom_html)"
   ]
  },
  {
   "cell_type": "code",
   "execution_count": null,
   "metadata": {},
   "outputs": [],
   "source": []
  }
 ],
 "metadata": {
  "kernelspec": {
   "display_name": "Python 3",
   "language": "python",
   "name": "python3"
  },
  "language_info": {
   "codemirror_mode": {
    "name": "ipython",
    "version": 3
   },
   "file_extension": ".py",
   "mimetype": "text/x-python",
   "name": "python",
   "nbconvert_exporter": "python",
   "pygments_lexer": "ipython3",
   "version": "3.7.8"
  }
 },
 "nbformat": 4,
 "nbformat_minor": 2
}
