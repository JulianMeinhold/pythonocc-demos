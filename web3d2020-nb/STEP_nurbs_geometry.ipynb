{
 "cells": [
  {
   "cell_type": "markdown",
   "metadata": {},
   "source": [
    "# Geometry boundary to X3D Nurbs"
   ]
  },
  {
   "cell_type": "code",
   "execution_count": 1,
   "metadata": {},
   "outputs": [
    {
     "name": "stdout",
     "output_type": "stream",
     "text": [
      "x3d.py package loaded, have fun with X3D Graphics!\n"
     ]
    }
   ],
   "source": [
    "import xml.etree.ElementTree as ET\n",
    "\n",
    "from OCC.Core.BRepBuilderAPI import BRepBuilderAPI_NurbsConvert\n",
    "from OCC.Core.BRepAdaptor import BRepAdaptor_Surface\n",
    "from OCC.Core.GeomAbs import GeomAbs_BSplineSurface\n",
    "\n",
    "from OCC.Extend.TopologyUtils import TopologyExplorer\n",
    "from OCC.Display.WebGl.jupyter_renderer import create_download_link\n",
    "import OCC.Extend.DataExchange.x3d_standard.x3d as XX3D\n",
    "\n",
    "from IPython.display import HTML"
   ]
  },
  {
   "cell_type": "code",
   "execution_count": 2,
   "metadata": {},
   "outputs": [],
   "source": [
    "from OCC.Extend.DataExchange.STEP import read_step_file\n",
    "# courtesy https://grabcad.com/library/aeroplane-65/details?folder_id=4438014\n",
    "base_shape = read_step_file('./plane.stp')"
   ]
  },
  {
   "cell_type": "code",
   "execution_count": 3,
   "metadata": {},
   "outputs": [],
   "source": [
    "# conversion to a nurbs representation\n",
    "converted_shape = BRepBuilderAPI_NurbsConvert(base_shape, True).Shape()\n",
    "# now, all edges should be BSpline curves and surfaces BSpline surfaces"
   ]
  },
  {
   "cell_type": "code",
   "execution_count": 4,
   "metadata": {},
   "outputs": [],
   "source": [
    "# now traverse all shapes and map to a Shape with NurbPatch nodes\n",
    "# https://castle-engine.io/x3d_implementation_nurbs.php#section_homogeneous_coordinates\n",
    "expl = TopologyExplorer(converted_shape)\n",
    "\n",
    "face_idx = 1\n",
    "\n",
    "all_shape_nodes = []\n",
    "\n",
    "# the material for this face\n",
    "face_mesh_material = XX3D.Material(diffuseColor=(0.4,.4,0.4),\n",
    "                                   specularColor=(0.9, 0.9, 0.9),\n",
    "                                   shininess=1, ambientIntensity=0.1)\n",
    "\n",
    "for face in expl.faces():\n",
    "    surf = BRepAdaptor_Surface(face, True)\n",
    "    surf_type = surf.GetType()\n",
    "    # check each of the is a BSpline surface\n",
    "    # it should be, since we used the nurbs converter before\n",
    "    if not surf_type == GeomAbs_BSplineSurface:\n",
    "        print(\"the face was not converted to a GeomAbs_BSplineSurface\")\n",
    "        continue\n",
    "        \n",
    "    # get the nurbs\n",
    "    bsrf = surf.BSpline()\n",
    "    # x3d does not have periodic nurbs\n",
    "    bsrf.SetUNotPeriodic()\n",
    "    bsrf.SetVNotPeriodic()\n",
    "    # bspline surface properties\n",
    "    # order = degree + 1\n",
    "    u_order = bsrf.UDegree() + 1\n",
    "    v_order = bsrf.VDegree() + 1\n",
    "\n",
    "    nb_u_poles = bsrf.NbUPoles()\n",
    "    nb_u_knots = bsrf.NbUKnots()\n",
    "\n",
    "    nb_v_poles = bsrf.NbVPoles()\n",
    "    nb_v_knots = bsrf.NbVKnots()\n",
    "    \n",
    "    # fill in the x3d template with nurbs information\n",
    "    \n",
    "    nurbs_patch_surface_node = XX3D.NurbsPatchSurface()\n",
    "    nurbs_patch_surface_node.solid = False\n",
    "    nurbs_patch_surface_node.DEF = 'nurbs_%i' % face_idx\n",
    "\n",
    "    nurbs_patch_surface_node.vClosed = bsrf.IsVClosed()\n",
    "    nurbs_patch_surface_node.uClosed = bsrf.IsUClosed()\n",
    "\n",
    "    nurbs_patch_surface_node.uOrder = u_order\n",
    "    nurbs_patch_surface_node.vOrder = v_order\n",
    "\n",
    "    # the uTesselation and vTesselation fields\n",
    "    # are set to be equal to nbr of knots\n",
    "    # it should be discussed\n",
    "    nurbs_patch_surface_node.uTessellation = nb_u_knots\n",
    "    nurbs_patch_surface_node.vTessellation = nb_v_knots\n",
    "\n",
    "    nurbs_patch_surface_node.uDimension = nb_u_poles\n",
    "    nurbs_patch_surface_node.vDimension = nb_v_poles\n",
    "    \n",
    "    # knots vector\n",
    "    u_knot = []\n",
    "    for iu in range(nb_u_knots):\n",
    "        mu = bsrf.UMultiplicity(iu + 1) # repeat u knots as necessary\n",
    "        u_knot.extend([bsrf.UKnot(iu + 1)] * mu)\n",
    "\n",
    "    nurbs_patch_surface_node.uKnot = u_knot\n",
    "    \n",
    "    v_knot = []  \n",
    "    for iv in range(nb_v_knots):\n",
    "        mv = bsrf.VMultiplicity(iv + 1) # repeat v knots as necessary\n",
    "        v_knot.extend([bsrf.VKnot(iv + 1)] * mv)\n",
    "    \n",
    "    nurbs_patch_surface_node.vKnot = v_knot\n",
    "    \n",
    "    # weights can be None\n",
    "    weights = []\n",
    "    if bsrf.Weights() is not None:\n",
    "        for iw in range(nb_v_poles):\n",
    "            for jw in range(nb_u_poles):\n",
    "                weights.append(bsrf.Weight(jw + 1, iw + 1))\n",
    "        nurbs_patch_surface_node.weight = weights\n",
    "\n",
    "    # the control points\n",
    "    control_points_coord_node = XX3D.Coordinate()\n",
    "    control_points_coord_node.containerField = 'controlPoint'\n",
    "    control_point_coordinates = []\n",
    "    # control points (aka poles), as a 2d array\n",
    "    if bsrf.Poles() is not None:\n",
    "        for ip in range(nb_v_poles):\n",
    "            for jp in range(nb_u_poles):\n",
    "                p = bsrf.Pole(jp + 1, ip + 1)\n",
    "                # note: x3d need preweighted control points\n",
    "                # see https://www.opencascade.com/doc/occt-7.4.0/refman/html/class_b_rep_builder_a_p_i___nurbs_convert.html#details\n",
    "                w = bsrf.Weight(jp + 1, ip + 1)\n",
    "                p_x = p.X() * w\n",
    "                p_y = p.Y() * w\n",
    "                p_z = p.Z() * w\n",
    "                control_point_coordinates.append([p_x, p_y, p_z])\n",
    "    control_points_coord_node.point = control_point_coordinates\n",
    "    nurbs_patch_surface_node.controlPoint = control_points_coord_node\n",
    "    \n",
    "    # create a new shape node\n",
    "    shape_node = XX3D.Shape()\n",
    "    shape_node.geometry = nurbs_patch_surface_node\n",
    "    shape_node.appearance = XX3D.Appearance(material = face_mesh_material)\n",
    "    # and add this shape to the list of shapes\n",
    "    all_shape_nodes.append(shape_node)\n",
    "    \n",
    "    face_idx += 1"
   ]
  },
  {
   "cell_type": "code",
   "execution_count": 5,
   "metadata": {},
   "outputs": [],
   "source": [
    "# complete x3d file\n",
    "x3dscene = XX3D.Scene(children=all_shape_nodes)\n",
    "x3ddoc = XX3D.X3D(Scene=x3dscene)\n",
    "\n",
    "# override the containerField content\n",
    "xml_content = x3ddoc.XML()\n",
    "# root node\n",
    "x3d_element = list(ET.XML(xml_content).iter('X3D'))[0]\n",
    "\n",
    "# weird, x3d.py does not allow to override the containerField property\n",
    "for c in x3d_element.iter('Coordinate'):\n",
    "    c.set('containerField', 'controlPoint')\n",
    "# back to XML\n",
    "new_xml = ET.tostring(x3d_element, encoding=\"unicode\", short_empty_elements=False)"
   ]
  },
  {
   "cell_type": "code",
   "execution_count": 6,
   "metadata": {},
   "outputs": [
    {
     "data": {
      "application/vnd.jupyter.widget-view+json": {
       "model_id": "340419fa001a44cab9115ba5dd3c880a",
       "version_major": 2,
       "version_minor": 0
      },
      "text/plain": [
       "HTML(value='<a download=\"plane_nurbs.x3d\" href=\"data:text/x3d;base64,PFgzRCB4bWxuczp4c2k9Imh0dHA6Ly93d3cudzMub…"
      ]
     },
     "metadata": {},
     "output_type": "display_data"
    }
   ],
   "source": [
    "create_download_link(a_str=new_xml, filename=\"plane_nurbs.x3d\")"
   ]
  },
  {
   "cell_type": "code",
   "execution_count": 7,
   "metadata": {},
   "outputs": [],
   "source": [
    "# create x3dom html\n",
    "_X3DOM_HEADER = '''<script type='text/javascript' src='https://www.x3dom.org/download/dev/x3dom-full.debug.js'> </script>\n",
    "<link rel='stylesheet' type='text/css' href='https://www.x3dom.org/download/dev/x3dom.css'></link>\n",
    "'''\n",
    "x3d_element = list(ET.XML(new_xml).iter('X3D'))[0]\n",
    "\n",
    "# remove gama correction\n",
    "next(x3d_element.iter('Scene')).append(ET.XML('<Environment gammaCorrectionDefault=\"none\"/>'))\n",
    "\n",
    "# add crease angle to IndexedTriangleSet instances, supported by x3dom\n",
    "# but not part of the X3D standard\n",
    "for idx_ts in x3d_element.iter('IndexedTriangleSet'):\n",
    "    idx_ts.set('creaseAngle', '0.2')\n",
    "\n",
    "x3dHTML = ET.tostring(x3d_element, encoding=\"unicode\", short_empty_elements=False)\n",
    "x3dHTML = x3dHTML.replace(\"visible=\", 'render=')\n",
    "x3dom_html = _X3DOM_HEADER + x3dHTML"
   ]
  },
  {
   "cell_type": "code",
   "execution_count": null,
   "metadata": {},
   "outputs": [],
   "source": [
    "HTML(x3dom_html)"
   ]
  }
 ],
 "metadata": {
  "kernelspec": {
   "display_name": "Python 3",
   "language": "python",
   "name": "python3"
  },
  "language_info": {
   "codemirror_mode": {
    "name": "ipython",
    "version": 3
   },
   "file_extension": ".py",
   "mimetype": "text/x-python",
   "name": "python",
   "nbconvert_exporter": "python",
   "pygments_lexer": "ipython3",
   "version": "3.7.8"
  }
 },
 "nbformat": 4,
 "nbformat_minor": 2
}
